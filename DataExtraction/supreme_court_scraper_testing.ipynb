{
 "cells": [
  {
   "cell_type": "markdown",
   "id": "8ed743d9",
   "metadata": {},
   "source": [
    "### Tauha Imran 22i1239 - G4\n",
    "#### NLP - A1 - Data Extraction"
   ]
  },
  {
   "cell_type": "code",
   "execution_count": null,
   "id": "dd290756",
   "metadata": {},
   "outputs": [],
   "source": [
    "#download selenium\n",
    "#!pip install selenium\n",
    "#also need to download the appropriate web driver for our browser\n",
    "#for chrome, we can download it from https://sites.google.com/chromium.org/driver/s/downloads\n",
    "#make sure to download the version that matches your browser version\n",
    "#!pip install webdriver-manager\n"
   ]
  },
  {
   "cell_type": "code",
   "execution_count": 9,
   "id": "b8844bb7",
   "metadata": {},
   "outputs": [],
   "source": [
    "#setting up selenium\n",
    "from selenium import webdriver\n",
    "from selenium.webdriver.common.by import By\n",
    "from selenium.webdriver.support.ui import WebDriverWait, Select\n",
    "from selenium.webdriver.support import expected_conditions as EC\n",
    "import time, os, json, requests\n",
    "#from bs4 import BeautifulSoup"
   ]
  },
  {
   "cell_type": "code",
   "execution_count": 10,
   "id": "393bdc74",
   "metadata": {},
   "outputs": [
    {
     "name": "stdout",
     "output_type": "stream",
     "text": [
      "Google\n"
     ]
    }
   ],
   "source": [
    "#THIS IS TO TEST IF SELENIUM IS WORKING\n",
    "from selenium import webdriver\n",
    "\n",
    "driver = webdriver.Chrome()\n",
    "driver.get(\"https://www.google.com\")\n",
    "print(driver.title)\n",
    "driver.quit()"
   ]
  },
  {
   "cell_type": "code",
   "execution_count": 11,
   "id": "fd12a26e",
   "metadata": {},
   "outputs": [
    {
     "ename": "NoSuchElementException",
     "evalue": "Message: no such element: Unable to locate element: {\"method\":\"css selector\",\"selector\":\"[id=\"ddlYear\"]\"}\n  (Session info: chrome=140.0.7339.128); For documentation on this error, please visit: https://www.selenium.dev/documentation/webdriver/troubleshooting/errors#nosuchelementexception\nStacktrace:\n\tGetHandleVerifier [0x0x7ff7a64630f5+79493]\n\tGetHandleVerifier [0x0x7ff7a6463150+79584]\n\t(No symbol) [0x0x7ff7a61e01ba]\n\t(No symbol) [0x0x7ff7a6238067]\n\t(No symbol) [0x0x7ff7a623832c]\n\t(No symbol) [0x0x7ff7a628be27]\n\t(No symbol) [0x0x7ff7a626074f]\n\t(No symbol) [0x0x7ff7a6288b8b]\n\t(No symbol) [0x0x7ff7a62604e3]\n\t(No symbol) [0x0x7ff7a6228e92]\n\t(No symbol) [0x0x7ff7a6229c63]\n\tGetHandleVerifier [0x0x7ff7a6720dbd+2954061]\n\tGetHandleVerifier [0x0x7ff7a671b02a+2930106]\n\tGetHandleVerifier [0x0x7ff7a673b357+3061991]\n\tGetHandleVerifier [0x0x7ff7a647d60e+187294]\n\tGetHandleVerifier [0x0x7ff7a648557f+219919]\n\tGetHandleVerifier [0x0x7ff7a646c294+116772]\n\tGetHandleVerifier [0x0x7ff7a646c449+117209]\n\tGetHandleVerifier [0x0x7ff7a6452618+11176]\n\tBaseThreadInitThunk [0x0x7ffacb29e8d7+23]\n\tRtlUserThreadStart [0x0x7ffacc068d9c+44]\n",
     "output_type": "error",
     "traceback": [
      "\u001b[31m---------------------------------------------------------------------------\u001b[39m",
      "\u001b[31mNoSuchElementException\u001b[39m                    Traceback (most recent call last)",
      "\u001b[36mCell\u001b[39m\u001b[36m \u001b[39m\u001b[32mIn[11]\u001b[39m\u001b[32m, line 10\u001b[39m\n\u001b[32m      7\u001b[39m driver.get(\u001b[33m\"\u001b[39m\u001b[33mhttps://www.supremecourt.gov.pk/judgement-search/\u001b[39m\u001b[33m\"\u001b[39m)\n\u001b[32m      9\u001b[39m \u001b[38;5;66;03m# pick year\u001b[39;00m\n\u001b[32m---> \u001b[39m\u001b[32m10\u001b[39m year_dropdown = \u001b[43mdriver\u001b[49m\u001b[43m.\u001b[49m\u001b[43mfind_element\u001b[49m\u001b[43m(\u001b[49m\u001b[43mBy\u001b[49m\u001b[43m.\u001b[49m\u001b[43mID\u001b[49m\u001b[43m,\u001b[49m\u001b[43m \u001b[49m\u001b[33;43m\"\u001b[39;49m\u001b[33;43mddlYear\u001b[39;49m\u001b[33;43m\"\u001b[39;49m\u001b[43m)\u001b[49m\n\u001b[32m     11\u001b[39m Select(year_dropdown).select_by_visible_text(\u001b[33m\"\u001b[39m\u001b[33m2020\u001b[39m\u001b[33m\"\u001b[39m)\n\u001b[32m     13\u001b[39m \u001b[38;5;66;03m# click search\u001b[39;00m\n",
      "\u001b[36mFile \u001b[39m\u001b[32mc:\\Users\\LENOVO\\AppData\\Local\\Programs\\Python\\Python313\\Lib\\site-packages\\selenium\\webdriver\\remote\\webdriver.py:926\u001b[39m, in \u001b[36mWebDriver.find_element\u001b[39m\u001b[34m(self, by, value)\u001b[39m\n\u001b[32m    923\u001b[39m         \u001b[38;5;28;01mraise\u001b[39;00m NoSuchElementException(\u001b[33mf\u001b[39m\u001b[33m\"\u001b[39m\u001b[33mCannot locate relative element with: \u001b[39m\u001b[38;5;132;01m{\u001b[39;00mby.root\u001b[38;5;132;01m}\u001b[39;00m\u001b[33m\"\u001b[39m)\n\u001b[32m    924\u001b[39m     \u001b[38;5;28;01mreturn\u001b[39;00m elements[\u001b[32m0\u001b[39m]\n\u001b[32m--> \u001b[39m\u001b[32m926\u001b[39m \u001b[38;5;28;01mreturn\u001b[39;00m \u001b[38;5;28;43mself\u001b[39;49m\u001b[43m.\u001b[49m\u001b[43mexecute\u001b[49m\u001b[43m(\u001b[49m\u001b[43mCommand\u001b[49m\u001b[43m.\u001b[49m\u001b[43mFIND_ELEMENT\u001b[49m\u001b[43m,\u001b[49m\u001b[43m \u001b[49m\u001b[43m{\u001b[49m\u001b[33;43m\"\u001b[39;49m\u001b[33;43musing\u001b[39;49m\u001b[33;43m\"\u001b[39;49m\u001b[43m:\u001b[49m\u001b[43m \u001b[49m\u001b[43mby\u001b[49m\u001b[43m,\u001b[49m\u001b[43m \u001b[49m\u001b[33;43m\"\u001b[39;49m\u001b[33;43mvalue\u001b[39;49m\u001b[33;43m\"\u001b[39;49m\u001b[43m:\u001b[49m\u001b[43m \u001b[49m\u001b[43mvalue\u001b[49m\u001b[43m}\u001b[49m\u001b[43m)\u001b[49m[\u001b[33m\"\u001b[39m\u001b[33mvalue\u001b[39m\u001b[33m\"\u001b[39m]\n",
      "\u001b[36mFile \u001b[39m\u001b[32mc:\\Users\\LENOVO\\AppData\\Local\\Programs\\Python\\Python313\\Lib\\site-packages\\selenium\\webdriver\\remote\\webdriver.py:458\u001b[39m, in \u001b[36mWebDriver.execute\u001b[39m\u001b[34m(self, driver_command, params)\u001b[39m\n\u001b[32m    455\u001b[39m response = cast(RemoteConnection, \u001b[38;5;28mself\u001b[39m.command_executor).execute(driver_command, params)\n\u001b[32m    457\u001b[39m \u001b[38;5;28;01mif\u001b[39;00m response:\n\u001b[32m--> \u001b[39m\u001b[32m458\u001b[39m     \u001b[38;5;28;43mself\u001b[39;49m\u001b[43m.\u001b[49m\u001b[43merror_handler\u001b[49m\u001b[43m.\u001b[49m\u001b[43mcheck_response\u001b[49m\u001b[43m(\u001b[49m\u001b[43mresponse\u001b[49m\u001b[43m)\u001b[49m\n\u001b[32m    459\u001b[39m     response[\u001b[33m\"\u001b[39m\u001b[33mvalue\u001b[39m\u001b[33m\"\u001b[39m] = \u001b[38;5;28mself\u001b[39m._unwrap_value(response.get(\u001b[33m\"\u001b[39m\u001b[33mvalue\u001b[39m\u001b[33m\"\u001b[39m, \u001b[38;5;28;01mNone\u001b[39;00m))\n\u001b[32m    460\u001b[39m     \u001b[38;5;28;01mreturn\u001b[39;00m response\n",
      "\u001b[36mFile \u001b[39m\u001b[32mc:\\Users\\LENOVO\\AppData\\Local\\Programs\\Python\\Python313\\Lib\\site-packages\\selenium\\webdriver\\remote\\errorhandler.py:232\u001b[39m, in \u001b[36mErrorHandler.check_response\u001b[39m\u001b[34m(self, response)\u001b[39m\n\u001b[32m    230\u001b[39m         alert_text = value[\u001b[33m\"\u001b[39m\u001b[33malert\u001b[39m\u001b[33m\"\u001b[39m].get(\u001b[33m\"\u001b[39m\u001b[33mtext\u001b[39m\u001b[33m\"\u001b[39m)\n\u001b[32m    231\u001b[39m     \u001b[38;5;28;01mraise\u001b[39;00m exception_class(message, screen, stacktrace, alert_text)  \u001b[38;5;66;03m# type: ignore[call-arg]  # mypy is not smart enough here\u001b[39;00m\n\u001b[32m--> \u001b[39m\u001b[32m232\u001b[39m \u001b[38;5;28;01mraise\u001b[39;00m exception_class(message, screen, stacktrace)\n",
      "\u001b[31mNoSuchElementException\u001b[39m: Message: no such element: Unable to locate element: {\"method\":\"css selector\",\"selector\":\"[id=\"ddlYear\"]\"}\n  (Session info: chrome=140.0.7339.128); For documentation on this error, please visit: https://www.selenium.dev/documentation/webdriver/troubleshooting/errors#nosuchelementexception\nStacktrace:\n\tGetHandleVerifier [0x0x7ff7a64630f5+79493]\n\tGetHandleVerifier [0x0x7ff7a6463150+79584]\n\t(No symbol) [0x0x7ff7a61e01ba]\n\t(No symbol) [0x0x7ff7a6238067]\n\t(No symbol) [0x0x7ff7a623832c]\n\t(No symbol) [0x0x7ff7a628be27]\n\t(No symbol) [0x0x7ff7a626074f]\n\t(No symbol) [0x0x7ff7a6288b8b]\n\t(No symbol) [0x0x7ff7a62604e3]\n\t(No symbol) [0x0x7ff7a6228e92]\n\t(No symbol) [0x0x7ff7a6229c63]\n\tGetHandleVerifier [0x0x7ff7a6720dbd+2954061]\n\tGetHandleVerifier [0x0x7ff7a671b02a+2930106]\n\tGetHandleVerifier [0x0x7ff7a673b357+3061991]\n\tGetHandleVerifier [0x0x7ff7a647d60e+187294]\n\tGetHandleVerifier [0x0x7ff7a648557f+219919]\n\tGetHandleVerifier [0x0x7ff7a646c294+116772]\n\tGetHandleVerifier [0x0x7ff7a646c449+117209]\n\tGetHandleVerifier [0x0x7ff7a6452618+11176]\n\tBaseThreadInitThunk [0x0x7ffacb29e8d7+23]\n\tRtlUserThreadStart [0x0x7ffacc068d9c+44]\n"
     ]
    }
   ],
   "source": [
    "from selenium import webdriver\n",
    "from selenium.webdriver.common.by import By\n",
    "from selenium.webdriver.support.ui import Select\n",
    "import time\n",
    "\n",
    "driver = webdriver.Chrome()\n",
    "driver.get(\"https://www.supremecourt.gov.pk/judgement-search/\")\n",
    "\n",
    "# pick year\n",
    "year_dropdown = driver.find_element(By.ID, \"ddlYear\")\n",
    "Select(year_dropdown).select_by_visible_text(\"2020\")\n",
    "\n",
    "# click search\n",
    "driver.find_element(By.ID, \"btnSearch\").click()\n",
    "time.sleep(3)  # wait for results\n",
    "\n",
    "# grab rows\n",
    "rows = driver.find_elements(By.CSS_SELECTOR, \"table tr\")\n",
    "for row in rows[1:]:\n",
    "    cols = row.find_elements(By.TAG_NAME, \"td\")\n",
    "    print([c.text for c in cols])  # debug: print case info\n",
    "\n",
    "driver.quit()\n"
   ]
  },
  {
   "cell_type": "markdown",
   "id": "5e13c1d5",
   "metadata": {},
   "source": []
  },
  {
   "cell_type": "code",
   "execution_count": 14,
   "id": "5f0608e7",
   "metadata": {},
   "outputs": [
    {
     "name": "stdout",
     "output_type": "stream",
     "text": [
      "Total cases in JSON: 2501\n"
     ]
    }
   ],
   "source": [
    "#check total length of rows\n",
    "#print(f\"Total cases found: {len(rows)-1}\")  # excluding header row\n",
    "#from .json file in this directory\n",
    "import json\n",
    "with open(\"SupremeCourt_G4.json\", \"r\", encoding=\"utf-8\") as f:\n",
    "    data = json.load(f)\n",
    "print(f\"Total cases in JSON: {len(data)}\")\n",
    "# --- main scraping code ---\n",
    "\n"
   ]
  },
  {
   "cell_type": "code",
   "execution_count": null,
   "id": "ce5e55d0",
   "metadata": {},
   "outputs": [],
   "source": []
  }
 ],
 "metadata": {
  "kernelspec": {
   "display_name": "Python 3",
   "language": "python",
   "name": "python3"
  },
  "language_info": {
   "codemirror_mode": {
    "name": "ipython",
    "version": 3
   },
   "file_extension": ".py",
   "mimetype": "text/x-python",
   "name": "python",
   "nbconvert_exporter": "python",
   "pygments_lexer": "ipython3",
   "version": "3.13.7"
  }
 },
 "nbformat": 4,
 "nbformat_minor": 5
}
