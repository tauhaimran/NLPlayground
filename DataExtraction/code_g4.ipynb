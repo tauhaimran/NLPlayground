{
 "cells": [
  {
   "cell_type": "markdown",
   "id": "8ed743d9",
   "metadata": {},
   "source": [
    "### Tauha Imran 22i1239 - G4\n",
    "#### NLP - A1 - Data Extraction"
   ]
  },
  {
   "cell_type": "code",
   "execution_count": null,
   "id": "dd290756",
   "metadata": {},
   "outputs": [],
   "source": [
    "#download selenium\n",
    "#!pip install selenium\n",
    "#also need to download the appropriate web driver for our browser\n",
    "#for chrome, we can download it from https://sites.google.com/chromium.org/driver/s/downloads\n",
    "#make sure to download the version that matches your browser version"
   ]
  },
  {
   "cell_type": "code",
   "execution_count": null,
   "id": "b8844bb7",
   "metadata": {},
   "outputs": [],
   "source": [
    "#setting up selenium\n",
    "from selenium import webdriver\n",
    "from selenium.webdriver.common.by import By\n",
    "from selenium.webdriver.support.ui import WebDriverWait, Select\n",
    "from selenium.webdriver.support import expected_conditions as EC\n",
    "import time, os, json, requests\n",
    "#from bs4 import BeautifulSoup"
   ]
  },
  {
   "cell_type": "code",
   "execution_count": null,
   "id": "393bdc74",
   "metadata": {},
   "outputs": [
    {
     "name": "stdout",
     "output_type": "stream",
     "text": [
      "Google\n"
     ]
    }
   ],
   "source": [
    "#THIS IS TO TEST IF SELENIUM IS WORKING\n",
    "from selenium import webdriver\n",
    "\n",
    "driver = webdriver.Chrome()\n",
    "driver.get(\"https://www.google.com\")\n",
    "print(driver.title)\n",
    "driver.quit()"
   ]
  },
  {
   "cell_type": "code",
   "execution_count": null,
   "id": "fd12a26e",
   "metadata": {},
   "outputs": [],
   "source": []
  }
 ],
 "metadata": {
  "kernelspec": {
   "display_name": "Python 3",
   "language": "python",
   "name": "python3"
  },
  "language_info": {
   "codemirror_mode": {
    "name": "ipython",
    "version": 3
   },
   "file_extension": ".py",
   "mimetype": "text/x-python",
   "name": "python",
   "nbconvert_exporter": "python",
   "pygments_lexer": "ipython3",
   "version": "3.13.7"
  }
 },
 "nbformat": 4,
 "nbformat_minor": 5
}
